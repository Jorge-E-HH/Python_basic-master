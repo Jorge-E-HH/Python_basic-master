{
 "cells": [
  {
   "cell_type": "code",
   "execution_count": 38,
   "metadata": {
    "collapsed": true
   },
   "outputs": [],
   "source": [
    "def mayor(a,b):\n",
    "    if(a > b):\n",
    "        return a\n",
    "    if(b > a):\n",
    "        return b"
   ]
  },
  {
   "cell_type": "code",
   "execution_count": 39,
   "metadata": {
    "collapsed": false
   },
   "outputs": [
    {
     "name": "stdout",
     "output_type": "stream",
     "text": [
      "12\n"
     ]
    }
   ],
   "source": [
    "print(mayor(12,6))"
   ]
  },
  {
   "cell_type": "code",
   "execution_count": 40,
   "metadata": {
    "collapsed": true
   },
   "outputs": [],
   "source": [
    "def mayor3(a,b,c):\n",
    "    if((a > b) and (a > c)):\n",
    "        return a\n",
    "    if((b > a) and (b > c)):\n",
    "        return b\n",
    "    if((c > a) and (c > b)):\n",
    "        return c"
   ]
  },
  {
   "cell_type": "code",
   "execution_count": 41,
   "metadata": {
    "collapsed": false
   },
   "outputs": [
    {
     "data": {
      "text/plain": [
       "16"
      ]
     },
     "execution_count": 41,
     "metadata": {},
     "output_type": "execute_result"
    }
   ],
   "source": [
    "mayor3(16,12,3)"
   ]
  },
  {
   "cell_type": "code",
   "execution_count": 42,
   "metadata": {
    "collapsed": false
   },
   "outputs": [],
   "source": [
    "def isnum(a):\n",
    "    try:\n",
    "        int(a)\n",
    "    except:\n",
    "        return False;\n",
    "    return True;"
   ]
  },
  {
   "cell_type": "code",
   "execution_count": 43,
   "metadata": {
    "collapsed": false
   },
   "outputs": [],
   "source": [
    "def length(a):\n",
    "    i = 0\n",
    "    if not (isnum(a)):\n",
    "        for i in range(len(a)):\n",
    "            i = i + 1\n",
    "    elif(isnum(a)):\n",
    "        return(a)\n",
    "    return(i)"
   ]
  },
  {
   "cell_type": "code",
   "execution_count": 44,
   "metadata": {
    "collapsed": false
   },
   "outputs": [
    {
     "name": "stdout",
     "output_type": "stream",
     "text": [
      "4\n",
      "3\n"
     ]
    }
   ],
   "source": [
    "print(length(\"hola\"))\n",
    "print(length([\"1\",\"2\",\"3\"]))"
   ]
  },
  {
   "cell_type": "code",
   "execution_count": 45,
   "metadata": {
    "collapsed": true
   },
   "outputs": [],
   "source": [
    "def isChar(s):\n",
    "    if(len(s) > 1):\n",
    "        return False\n",
    "    if(len(s) == 1):\n",
    "        return True"
   ]
  },
  {
   "cell_type": "code",
   "execution_count": 47,
   "metadata": {
    "collapsed": false
   },
   "outputs": [],
   "source": [
    "def isvoc(s):\n",
    "    vocales = \"aeiouáéíóú\"\n",
    "    if not(isnum(s)) and (isChar(s)):\n",
    "        for i in range(len(vocales)):\n",
    "            for j in range(len(s)):\n",
    "                if (vocales[i] == s):\n",
    "                    return True\n",
    "                else:\n",
    "                    return False\n",
    "    elif(isnum(s)):\n",
    "        print(\"El valor es un numero\")\n",
    "    elif not(isChar(s)):\n",
    "        print(\"El valor no es solo un caracter\")"
   ]
  },
  {
   "cell_type": "code",
   "execution_count": 51,
   "metadata": {
    "collapsed": false
   },
   "outputs": [
    {
     "name": "stdout",
     "output_type": "stream",
     "text": [
      "El valor no es solo un caracter\n",
      "El valor es un numero\n"
     ]
    },
    {
     "data": {
      "text/plain": [
       "True"
      ]
     },
     "execution_count": 51,
     "metadata": {},
     "output_type": "execute_result"
    }
   ],
   "source": [
    "isvoc(\"as\")\n",
    "isvoc(1)\n",
    "isvoc(\"a\")"
   ]
  },
  {
   "cell_type": "code",
   "execution_count": 67,
   "metadata": {
    "collapsed": false
   },
   "outputs": [],
   "source": [
    "def suma(a):\n",
    "    total = 0\n",
    "    for i in range(len(a)):\n",
    "        total += a[i] \n",
    "    return total\n",
    "def mult(a):\n",
    "    total = 1\n",
    "    for i in range(len(a)):\n",
    "        total *= a[i]\n",
    "    return total"
   ]
  },
  {
   "cell_type": "code",
   "execution_count": 71,
   "metadata": {
    "collapsed": false
   },
   "outputs": [
    {
     "name": "stdout",
     "output_type": "stream",
     "text": [
      "10\n",
      "24\n"
     ]
    }
   ],
   "source": [
    "print(suma([1,2,3,4]))\n",
    "print(mult([1,2,3,4]))"
   ]
  },
  {
   "cell_type": "code",
   "execution_count": 110,
   "metadata": {
    "collapsed": false
   },
   "outputs": [],
   "source": [
    "def inversa(a):\n",
    "    trans = \"\"\n",
    "    if(isnum(a)):\n",
    "        print(\"La entrada es un numero\")\n",
    "        return \"Error\"\n",
    "    elif not(isChar(a) and isnum(a)):\n",
    "        for i in range(len(a)):\n",
    "            trans = trans + a[(len(a)-1)-i]\n",
    "        return trans\n",
    "    \n",
    "    else:\n",
    "        print(\"La entrada no deve ser un numero o una sola letra\")"
   ]
  },
  {
   "cell_type": "code",
   "execution_count": 111,
   "metadata": {
    "collapsed": false
   },
   "outputs": [
    {
     "name": "stdout",
     "output_type": "stream",
     "text": [
      "estoy probando\n",
      "La entrada es un numero\n",
      "Error\n"
     ]
    }
   ],
   "source": [
    "print(inversa(\"odnaborp yotse\"))\n",
    "print(inversa(1))"
   ]
  },
  {
   "cell_type": "code",
   "execution_count": 112,
   "metadata": {
    "collapsed": true
   },
   "outputs": [],
   "source": [
    "def isPalindromo(a):\n",
    "    inv = inversa(a)\n",
    "    if(inv == a):\n",
    "        return True\n",
    "    else:\n",
    "        return False"
   ]
  },
  {
   "cell_type": "code",
   "execution_count": 117,
   "metadata": {
    "collapsed": false
   },
   "outputs": [
    {
     "name": "stdout",
     "output_type": "stream",
     "text": [
      "True\n",
      "False\n"
     ]
    }
   ],
   "source": [
    "print(isPalindromo(\"radar\"))\n",
    "print(isPalindromo(\"hola\"))"
   ]
  },
  {
   "cell_type": "code",
   "execution_count": 118,
   "metadata": {
    "collapsed": true
   },
   "outputs": [],
   "source": [
    "def sPos(a,b):\n",
    "    for i in range(len(a)):\n",
    "        for j in range(len(b)):\n",
    "            if(a[i] == b[j]):\n",
    "                return True\n",
    "            else:\n",
    "                return False"
   ]
  },
  {
   "cell_type": "code",
   "execution_count": 124,
   "metadata": {
    "collapsed": false
   },
   "outputs": [
    {
     "name": "stdout",
     "output_type": "stream",
     "text": [
      "False\n",
      "True\n"
     ]
    }
   ],
   "source": [
    "print(sPos([1,2,3,4,5],[6,7,8,9,0]))\n",
    "print(sPos([1,2,3,4],[1,6,7,8,8]))"
   ]
  },
  {
   "cell_type": "code",
   "execution_count": 163,
   "metadata": {
    "collapsed": false
   },
   "outputs": [],
   "source": [
    "def Cgen(a,b):\n",
    "    c = b\n",
    "    for i in range(a):\n",
    "        b = b + c\n",
    "    return b"
   ]
  },
  {
   "cell_type": "code",
   "execution_count": 165,
   "metadata": {
    "collapsed": false
   },
   "outputs": [
    {
     "data": {
      "text/plain": [
       "'xxxxxxxxxxxxxxxxxxxxxxxxxxxxxxxxxxxxxxxxxxxxxxxxxxxxxxxxxxxxxxxxxxxxxxxxxxxxxxxxxxxxxxxxxxxxxxxxxxxxx'"
      ]
     },
     "execution_count": 165,
     "metadata": {},
     "output_type": "execute_result"
    }
   ],
   "source": [
    "Cgen(100,\"x\")"
   ]
  },
  {
   "cell_type": "code",
   "execution_count": null,
   "metadata": {
    "collapsed": true
   },
   "outputs": [],
   "source": []
  }
 ],
 "metadata": {
  "kernelspec": {
   "display_name": "Python 3",
   "language": "python",
   "name": "python3"
  },
  "language_info": {
   "codemirror_mode": {
    "name": "ipython",
    "version": 3
   },
   "file_extension": ".py",
   "mimetype": "text/x-python",
   "name": "python",
   "nbconvert_exporter": "python",
   "pygments_lexer": "ipython3",
   "version": "3.6.0"
  }
 },
 "nbformat": 4,
 "nbformat_minor": 2
}
